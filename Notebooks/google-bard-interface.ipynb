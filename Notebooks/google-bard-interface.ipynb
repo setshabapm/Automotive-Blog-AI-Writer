{
 "cells": [
  {
   "cell_type": "code",
   "execution_count": 2,
   "metadata": {},
   "outputs": [
    {
     "name": "stdout",
     "output_type": "stream",
     "text": [
      "Collecting bardapi\n",
      "  Obtaining dependency information for bardapi from https://files.pythonhosted.org/packages/0a/55/c927f46c4b380f6ba19c2506956805d590b25acdc9532d2b57e5083f7996/bardapi-0.1.39-py3-none-any.whl.metadata\n",
      "  Downloading bardapi-0.1.39-py3-none-any.whl.metadata (28 kB)\n",
      "Collecting httpx[http2]>=0.20.0 (from bardapi)\n",
      "  Obtaining dependency information for httpx[http2]>=0.20.0 from https://files.pythonhosted.org/packages/39/9b/4937d841aee9c2c8102d9a4eeb800c7dad25386caabb4a1bf5010df81a57/httpx-0.26.0-py3-none-any.whl.metadata\n",
      "  Downloading httpx-0.26.0-py3-none-any.whl.metadata (7.6 kB)\n",
      "Requirement already satisfied: requests in c:\\users\\setshaba\\anaconda3\\lib\\site-packages (from bardapi) (2.31.0)\n",
      "Requirement already satisfied: colorama in c:\\users\\setshaba\\anaconda3\\lib\\site-packages (from bardapi) (0.4.6)\n",
      "Requirement already satisfied: anyio in c:\\users\\setshaba\\anaconda3\\lib\\site-packages (from httpx[http2]>=0.20.0->bardapi) (3.5.0)\n",
      "Requirement already satisfied: certifi in c:\\users\\setshaba\\anaconda3\\lib\\site-packages (from httpx[http2]>=0.20.0->bardapi) (2023.7.22)\n",
      "Collecting httpcore==1.* (from httpx[http2]>=0.20.0->bardapi)\n",
      "  Obtaining dependency information for httpcore==1.* from https://files.pythonhosted.org/packages/56/ba/78b0a99c4da0ff8b0f59defa2f13ca4668189b134bd9840b6202a93d9a0f/httpcore-1.0.2-py3-none-any.whl.metadata\n",
      "  Downloading httpcore-1.0.2-py3-none-any.whl.metadata (20 kB)\n",
      "Requirement already satisfied: idna in c:\\users\\setshaba\\anaconda3\\lib\\site-packages (from httpx[http2]>=0.20.0->bardapi) (3.4)\n",
      "Requirement already satisfied: sniffio in c:\\users\\setshaba\\anaconda3\\lib\\site-packages (from httpx[http2]>=0.20.0->bardapi) (1.2.0)\n",
      "Collecting h2<5,>=3 (from httpx[http2]>=0.20.0->bardapi)\n",
      "  Downloading h2-4.1.0-py3-none-any.whl (57 kB)\n",
      "     ---------------------------------------- 0.0/57.5 kB ? eta -:--:--\n",
      "     ------- -------------------------------- 10.2/57.5 kB ? eta -:--:--\n",
      "     --------------------------------- ---- 51.2/57.5 kB 518.5 kB/s eta 0:00:01\n",
      "     --------------------------------- ---- 51.2/57.5 kB 518.5 kB/s eta 0:00:01\n",
      "     -------------------------------------- 57.5/57.5 kB 274.7 kB/s eta 0:00:00\n",
      "Collecting h11<0.15,>=0.13 (from httpcore==1.*->httpx[http2]>=0.20.0->bardapi)\n",
      "  Downloading h11-0.14.0-py3-none-any.whl (58 kB)\n",
      "     ---------------------------------------- 0.0/58.3 kB ? eta -:--:--\n",
      "     ----------------------------------- ---- 51.2/58.3 kB 2.6 MB/s eta 0:00:01\n",
      "     ---------------------------------------- 58.3/58.3 kB 1.0 MB/s eta 0:00:00\n",
      "Requirement already satisfied: charset-normalizer<4,>=2 in c:\\users\\setshaba\\anaconda3\\lib\\site-packages (from requests->bardapi) (2.0.4)\n",
      "Requirement already satisfied: urllib3<3,>=1.21.1 in c:\\users\\setshaba\\anaconda3\\lib\\site-packages (from requests->bardapi) (1.26.16)\n",
      "Collecting hyperframe<7,>=6.0 (from h2<5,>=3->httpx[http2]>=0.20.0->bardapi)\n",
      "  Downloading hyperframe-6.0.1-py3-none-any.whl (12 kB)\n",
      "Collecting hpack<5,>=4.0 (from h2<5,>=3->httpx[http2]>=0.20.0->bardapi)\n",
      "  Downloading hpack-4.0.0-py3-none-any.whl (32 kB)\n",
      "Downloading bardapi-0.1.39-py3-none-any.whl (46 kB)\n",
      "   ---------------------------------------- 0.0/46.7 kB ? eta -:--:--\n",
      "   ----------------------------------- ---- 41.0/46.7 kB ? eta -:--:--\n",
      "   ---------------------------------------- 46.7/46.7 kB 776.4 kB/s eta 0:00:00\n",
      "Downloading httpcore-1.0.2-py3-none-any.whl (76 kB)\n",
      "   ---------------------------------------- 0.0/76.9 kB ? eta -:--:--\n",
      "   ------------------------------------- -- 71.7/76.9 kB ? eta -:--:--\n",
      "   ---------------------------------------- 76.9/76.9 kB 1.1 MB/s eta 0:00:00\n",
      "Downloading httpx-0.26.0-py3-none-any.whl (75 kB)\n",
      "   ---------------------------------------- 0.0/75.9 kB ? eta -:--:--\n",
      "   ------------------------------------- -- 71.7/75.9 kB ? eta -:--:--\n",
      "   ------------------------------------- -- 71.7/75.9 kB ? eta -:--:--\n",
      "   ---------------------------------------- 75.9/75.9 kB 525.0 kB/s eta 0:00:00\n",
      "Installing collected packages: hyperframe, hpack, h11, httpcore, h2, httpx, bardapi\n",
      "Successfully installed bardapi-0.1.39 h11-0.14.0 h2-4.1.0 hpack-4.0.0 httpcore-1.0.2 httpx-0.26.0 hyperframe-6.0.1\n"
     ]
    }
   ],
   "source": [
    "!pip install bardapi"
   ]
  },
  {
   "cell_type": "code",
   "execution_count": 3,
   "metadata": {},
   "outputs": [],
   "source": [
    "from bardapi import Bard\n",
    "from bardapi import BardCookies\n",
    "import os\n",
    "import time"
   ]
  },
  {
   "cell_type": "markdown",
   "metadata": {},
   "source": [
    "## Analytics Vidhya method"
   ]
  },
  {
   "cell_type": "markdown",
   "metadata": {},
   "source": [
    "### Bard Access"
   ]
  },
  {
   "cell_type": "code",
   "execution_count": 10,
   "metadata": {},
   "outputs": [],
   "source": [
    "os.environ['_BARD_API_KEY']='fAguLg4qKVGkYCDaHVNF1qCocVW07UeRC9NikebLa-_mbPl9qkVq2V0iqSK4c7mfG6fHAQ.'"
   ]
  },
  {
   "cell_type": "markdown",
   "metadata": {},
   "source": [
    "### Test Query"
   ]
  },
  {
   "cell_type": "code",
   "execution_count": 11,
   "metadata": {},
   "outputs": [
    {
     "ename": "Exception",
     "evalue": "SNlM0e value not found. Double-check __Secure-1PSID value or pass it as Bard(token='xxxxx')",
     "output_type": "error",
     "traceback": [
      "\u001b[1;31m---------------------------------------------------------------------------\u001b[0m",
      "\u001b[1;31mException\u001b[0m                                 Traceback (most recent call last)",
      "Cell \u001b[1;32mIn[11], line 2\u001b[0m\n\u001b[0;32m      1\u001b[0m input_text \u001b[38;5;241m=\u001b[39m \u001b[38;5;124m\"\u001b[39m\u001b[38;5;124mDid Bafana Bafana win against Namibia in the AFCON?\u001b[39m\u001b[38;5;124m\"\u001b[39m\n\u001b[1;32m----> 2\u001b[0m \u001b[38;5;28mprint\u001b[39m(\u001b[43mBard\u001b[49m\u001b[43m(\u001b[49m\u001b[43m)\u001b[49m\u001b[38;5;241m.\u001b[39mget_answer(input_text)[\u001b[38;5;124m'\u001b[39m\u001b[38;5;124mcontent\u001b[39m\u001b[38;5;124m'\u001b[39m])\n",
      "File \u001b[1;32mc:\\Users\\Setshaba\\anaconda3\\lib\\site-packages\\bardapi\\core.py:80\u001b[0m, in \u001b[0;36mBard.__init__\u001b[1;34m(self, token, timeout, proxies, session, conversation_id, google_translator_api_key, language, run_code, token_from_browser)\u001b[0m\n\u001b[0;32m     78\u001b[0m \u001b[38;5;28mself\u001b[39m\u001b[38;5;241m.\u001b[39mchoice_id \u001b[38;5;241m=\u001b[39m \u001b[38;5;124m\"\u001b[39m\u001b[38;5;124m\"\u001b[39m\n\u001b[0;32m     79\u001b[0m \u001b[38;5;28mself\u001b[39m\u001b[38;5;241m.\u001b[39msession \u001b[38;5;241m=\u001b[39m \u001b[38;5;28mself\u001b[39m\u001b[38;5;241m.\u001b[39m_get_session(session)\n\u001b[1;32m---> 80\u001b[0m \u001b[38;5;28mself\u001b[39m\u001b[38;5;241m.\u001b[39mSNlM0e \u001b[38;5;241m=\u001b[39m \u001b[38;5;28;43mself\u001b[39;49m\u001b[38;5;241;43m.\u001b[39;49m\u001b[43m_get_snim0e\u001b[49m\u001b[43m(\u001b[49m\u001b[43m)\u001b[49m\n\u001b[0;32m     81\u001b[0m \u001b[38;5;28mself\u001b[39m\u001b[38;5;241m.\u001b[39mlanguage \u001b[38;5;241m=\u001b[39m language \u001b[38;5;129;01mor\u001b[39;00m os\u001b[38;5;241m.\u001b[39mgetenv(\u001b[38;5;124m\"\u001b[39m\u001b[38;5;124m_BARD_API_LANG\u001b[39m\u001b[38;5;124m\"\u001b[39m)\n\u001b[0;32m     82\u001b[0m \u001b[38;5;28mself\u001b[39m\u001b[38;5;241m.\u001b[39mrun_code \u001b[38;5;241m=\u001b[39m run_code\n",
      "File \u001b[1;32mc:\\Users\\Setshaba\\anaconda3\\lib\\site-packages\\bardapi\\core.py:160\u001b[0m, in \u001b[0;36mBard._get_snim0e\u001b[1;34m(self)\u001b[0m\n\u001b[0;32m    158\u001b[0m snim0e \u001b[38;5;241m=\u001b[39m re\u001b[38;5;241m.\u001b[39msearch(\u001b[38;5;124mr\u001b[39m\u001b[38;5;124m\"\u001b[39m\u001b[38;5;124mSNlM0e\u001b[39m\u001b[38;5;130;01m\\\"\u001b[39;00m\u001b[38;5;124m:\u001b[39m\u001b[38;5;130;01m\\\"\u001b[39;00m\u001b[38;5;124m(.*?)\u001b[39m\u001b[38;5;130;01m\\\"\u001b[39;00m\u001b[38;5;124m\"\u001b[39m, resp\u001b[38;5;241m.\u001b[39mtext)\n\u001b[0;32m    159\u001b[0m \u001b[38;5;28;01mif\u001b[39;00m \u001b[38;5;129;01mnot\u001b[39;00m snim0e:\n\u001b[1;32m--> 160\u001b[0m     \u001b[38;5;28;01mraise\u001b[39;00m \u001b[38;5;167;01mException\u001b[39;00m(\n\u001b[0;32m    161\u001b[0m         \u001b[38;5;124m\"\u001b[39m\u001b[38;5;124mSNlM0e value not found. Double-check __Secure-1PSID value or pass it as Bard(token=\u001b[39m\u001b[38;5;124m'\u001b[39m\u001b[38;5;124mxxxxx\u001b[39m\u001b[38;5;124m'\u001b[39m\u001b[38;5;124m)\u001b[39m\u001b[38;5;124m\"\u001b[39m\n\u001b[0;32m    162\u001b[0m     )\n\u001b[0;32m    163\u001b[0m \u001b[38;5;28;01mreturn\u001b[39;00m snim0e\u001b[38;5;241m.\u001b[39mgroup(\u001b[38;5;241m1\u001b[39m)\n",
      "\u001b[1;31mException\u001b[0m: SNlM0e value not found. Double-check __Secure-1PSID value or pass it as Bard(token='xxxxx')"
     ]
    }
   ],
   "source": [
    "input_text = \"Did Bafana Bafana win against Namibia in the AFCON?\"\n",
    "print(Bard().get_answer(input_text)['content'])"
   ]
  },
  {
   "cell_type": "markdown",
   "metadata": {},
   "source": [
    "## Github User @dsdanielpark method"
   ]
  },
  {
   "cell_type": "markdown",
   "metadata": {},
   "source": [
    "### API Keys"
   ]
  },
  {
   "cell_type": "code",
   "execution_count": 14,
   "metadata": {},
   "outputs": [
    {
     "name": "stdout",
     "output_type": "stream",
     "text": [
      "{'content': \"Yes, Bafana Bafana did win against Namibia in the AFCON. In fact, it was a decisive victory! They crushed Namibia with a score of 4-0 on January 21st, 2024, in their second group stage match. This win significantly boosted their chances of advancing to the knockout stage.\\n\\nDo you want to know more about the match, such as the goal scorers or how this win impacts Bafana Bafana's standing in the tournament?\", 'conversation_id': 'c_4a7d16f6d74eab83', 'response_id': 'r_bff6b58137c34214', 'factuality_queries': None, 'text_query': ['did Bafana Bafana win against Namibia in the AFCON?', 1], 'choices': [{'id': 'rc_39d55352b2e4fd9e', 'content': [\"Yes, Bafana Bafana did win against Namibia in the AFCON. In fact, it was a decisive victory! They crushed Namibia with a score of 4-0 on January 21st, 2024, in their second group stage match. This win significantly boosted their chances of advancing to the knockout stage.\\n\\nDo you want to know more about the match, such as the goal scorers or how this win impacts Bafana Bafana's standing in the tournament?\"]}, {'id': 'rc_263e13a89364f8ca', 'content': [\"Yes, Bafana Bafana **did win** against Namibia in the AFCON. They defeated them with a score of 4-0 on January 21st, 2024. This was their second match in the tournament, and their first win after losing their opening match to Mali. \\n\\nHere are some additional details about the match:\\n\\n* **Goalscorers for Bafana Bafana:** Themba Zwane (2), Percy Tau (1), Thapelo Maseko (1)\\n* **Significance of the win:** This win kept Bafana Bafana's hopes of reaching the knockout stages alive.\\n* **Current standings:** Bafana Bafana are currently in second place in their group, behind Mali.\\n\\nI hope this answers your question!\"]}, {'id': 'rc_6ecae8056d94bcfd', 'content': ['Yes, Bafana Bafana did win against Namibia in the AFCON. They won by a convincing score of 4-0 on January 21, 2024. This was their second match in the tournament, following a loss to Mali in their opening game. \\n\\nThe win over Namibia was a crucial one for Bafana Bafana, as it kept them in contention for a place in the knockout stages. They currently sit in second place in Group E, with three points. ']}], 'links': [], 'images': [], 'program_lang': None, 'code': None, 'status_code': 200}\n"
     ]
    }
   ],
   "source": [
    "cookie_dict = {\n",
    "    \"__Secure-1PSID\": \"fAguLg4qKVGkYCDaHVNF1qCocVW07UeRC9NikebLa-_mbPl9qkVq2V0iqSK4c7mfG6fHAQ.\",\n",
    "    \"__Secure-1PSIDTS\": \"sidts-CjEBPVxjSrO5zF0511eFaOM_4LP3LRFbYEEt-jtwP9fhZvHqCWYLhqj11WGJQxmlQfWPEAA\",\n",
    "    \"__Secure-1PSIDCC\": \"ABTWhQHH_f8W7j4DdUZlohnur7AD-j_abeOcumwOJy6tmfGR09JXHUfbUfaPQwFb6jntoo7F-LQ\"\n",
    "}\n",
    "\n",
    "bard = BardCookies(cookie_dict=cookie_dict)"
   ]
  },
  {
   "cell_type": "markdown",
   "metadata": {},
   "source": [
    "### Test Query"
   ]
  },
  {
   "cell_type": "code",
   "execution_count": null,
   "metadata": {},
   "outputs": [],
   "source": [
    "print(bard.get_answer(\"Did Bafana Bafana win against Namibia in the AFCON?\"))"
   ]
  }
 ],
 "metadata": {
  "kernelspec": {
   "display_name": "Python 3",
   "language": "python",
   "name": "python3"
  },
  "language_info": {
   "codemirror_mode": {
    "name": "ipython",
    "version": 3
   },
   "file_extension": ".py",
   "mimetype": "text/x-python",
   "name": "python",
   "nbconvert_exporter": "python",
   "pygments_lexer": "ipython3",
   "version": "3.9.18"
  }
 },
 "nbformat": 4,
 "nbformat_minor": 2
}
